{
 "cells": [
  {
   "cell_type": "code",
   "execution_count": 12,
   "metadata": {},
   "outputs": [],
   "source": [
    "import pandas as pd\n",
    "import string\n",
    "from sklearn.model_selection import train_test_split\n",
    "from collections import Counter\n",
    "import numpy as np\n",
    "import pandas as pd\n",
    "from sklearn.feature_extraction.text import CountVectorizer\n",
    "import numpy as np\n",
    "from collections import Counter\n",
    "from tqdm import tqdm\n",
    "import os"
   ]
  },
  {
   "cell_type": "code",
   "execution_count": 13,
   "metadata": {},
   "outputs": [
    {
     "name": "stderr",
     "output_type": "stream",
     "text": [
      "<>:1: SyntaxWarning: invalid escape sequence '\\p'\n",
      "<>:1: SyntaxWarning: invalid escape sequence '\\p'\n",
      "C:\\Users\\20220870\\AppData\\Local\\Temp\\ipykernel_23368\\1470960752.py:1: SyntaxWarning: invalid escape sequence '\\p'\n",
      "  file_path = \"datasets\\political_leaning.csv\"\n"
     ]
    },
    {
     "name": "stdout",
     "output_type": "stream",
     "text": [
      "Training set size: 8\n",
      "Testing set size: 2\n",
      "Index(['auhtor_ID', 'post', 'political_leaning'], dtype='object')\n"
     ]
    }
   ],
   "source": [
    "file_path = \"datasets\\political_leaning.csv\"\n",
    "df = pd.read_csv(file_path)[0:10]\n",
    "\n",
    "train_data, test_data = train_test_split(df, test_size=0.2, random_state=42) #split the data into training and testing sets\n",
    "\n",
    "train_posts = train_data['post'].tolist()\n",
    "test_posts = test_data['post'].tolist()\n",
    "\n",
    "print(f\"Training set size: {len(train_posts)}\")\n",
    "print(f\"Testing set size: {len(test_posts)}\")\n",
    "print(df.columns)"
   ]
  },
  {
   "cell_type": "code",
   "execution_count": 14,
   "metadata": {},
   "outputs": [
    {
     "data": {
      "image/png": "[encoded data removed]",
      "text/plain": [
       "<Figure size 640x480 with 1 Axes>"
      ]
     },
     "metadata": {},
     "output_type": "display_data"
    }
   ],
   "source": [
    "from sklearn.feature_extraction.text import CountVectorizer\n",
    "from sklearn.metrics.pairwise import cosine_similarity\n",
    "import matplotlib.pyplot as plt\n",
    "\n",
    "vectorizer = CountVectorizer()\n",
    "train_matrix = vectorizer.fit_transform(train_posts)\n",
    "test_matrix = vectorizer.transform(test_posts)\n",
    "\n",
    "train_sample = train_matrix[:1000]\n",
    "test_sample = test_matrix[:1000]\n",
    "\n",
    "\n",
    "sample_similarities = cosine_similarity(test_sample, train_sample).flatten()\n",
    "\n",
    "plt.hist(sample_similarities, bins=50, alpha=0.7)\n",
    "plt.xlabel(\"Cosine Similarity\")\n",
    "plt.ylabel(\"Frequency\")\n",
    "plt.title(\"Histogram of Cosine Similarities\")\n",
    "plt.show()\n",
    "\n"
   ]
  },
  {
   "cell_type": "code",
   "execution_count": 15,
   "metadata": {},
   "outputs": [
    {
     "name": "stdout",
     "output_type": "stream",
     "text": [
      "Extracting top words from training data...\n",
      "Extracting top words from testing data...\n",
      "Number of overlapping words: 82\n",
      "Sample overlapping words: ['4', '6', '(', '*', '&', 'V', 'v', 'C', 'x', 'b']\n",
      "Fitting vectorizer on training data...\n",
      "Transforming testing data...\n",
      "Computing cosine similarities...\n",
      "[Similarity] Processed 100 test documents.\n",
      "Number of high similarity document pairs: 16\n",
      "Sample high similarity pairs (train index, test index, similarity): [(0, 0, np.float64(0.900647443266828)), (1, 0, np.float64(0.865896894612126)), (2, 0, np.float64(0.9139609523388802)), (3, 0, np.float64(0.900926711292097)), (4, 0, np.float64(0.9077310381334819))]\n",
      "Removing 8 polluted training rows...\n",
      "Removing 2 polluted testing rows...\n",
      "Cleaned dataset saved to 'datasets\\political_leaning_clean.csv'.\n"
     ]
    }
   ],
   "source": [
    "def top_words_per_dataset(dataset, dataset_name):\n",
    "    counter = Counter()\n",
    "    for i, tokens in enumerate(dataset):\n",
    "        counter.update(tokens)\n",
    "        if (i + 1) % 500 == 0:\n",
    "            print(f\"[{dataset_name}] Processed {i + 1} rows.\")\n",
    "    return counter\n",
    "\n",
    "print(\"Extracting top words from training data...\")\n",
    "train_counter = top_words_per_dataset(train_posts, \"Train\")\n",
    "print(\"Extracting top words from testing data...\")\n",
    "test_counter = top_words_per_dataset(test_posts, \"Test\")\n",
    "\n",
    "top_train_words = set([word for word, _ in train_counter.most_common(5000)])\n",
    "top_test_words = set([word for word, _ in test_counter.most_common(5000)])\n",
    "\n",
    "overlapping_words = top_train_words.intersection(top_test_words)\n",
    "unique_train_words = top_train_words - overlapping_words\n",
    "unique_test_words = top_test_words - overlapping_words\n",
    "\n",
    "print(f\"Number of overlapping words: {len(overlapping_words)}\")\n",
    "print(f\"Sample overlapping words: {list(overlapping_words)[:10]}\")\n",
    "\n",
    "vectorizer = CountVectorizer()\n",
    "\n",
    "print(\"Fitting vectorizer on training data...\")\n",
    "train_matrix = vectorizer.fit_transform(train_posts)\n",
    "print(\"Transforming testing data...\")\n",
    "test_matrix = vectorizer.transform(test_posts)\n",
    "\n",
    "feature_names = vectorizer.get_feature_names_out()\n",
    "\n",
    "def compute_cosine_similarity_sparse_with_details(train_matrix, test_matrix, threshold=0.7):\n",
    "    high_similarity_pairs = []\n",
    "    similarities_all = []\n",
    "    batch_size = 100\n",
    "    for i in range(0, test_matrix.shape[0], batch_size):\n",
    "        test_batch = test_matrix[i:i + batch_size]\n",
    "        similarities = cosine_similarity(test_batch, train_matrix)\n",
    "        similarities_all.extend(similarities.flatten())  # Collect all similarities for plotting\n",
    "        for test_idx, train_similarities in enumerate(similarities):\n",
    "            for train_idx, similarity in enumerate(train_similarities):\n",
    "                if similarity > threshold:\n",
    "                    high_similarity_pairs.append((train_idx, i + test_idx, similarity))\n",
    "        print(f\"[Similarity] Processed {i + batch_size} test documents.\")\n",
    "    return high_similarity_pairs, similarities_all\n",
    "\n",
    "print(\"Computing cosine similarities...\")\n",
    "high_similarity_pairs, similarities_all = compute_cosine_similarity_sparse_with_details(train_matrix, test_matrix)\n",
    "print(f\"Number of high similarity document pairs: {len(high_similarity_pairs)}\")\n",
    "print(f\"Sample high similarity pairs (train index, test index, similarity): {high_similarity_pairs[:5]}\")\n",
    "\n",
    "#remove polluted rows\n",
    "def remove_polluted_rows(df, high_similarity_pairs):\n",
    "    polluted_test_indices = {test_idx for _, test_idx, _ in high_similarity_pairs}\n",
    "    polluted_train_indices = {train_idx for train_idx, _, _ in high_similarity_pairs}\n",
    "    print(f\"Removing {len(polluted_train_indices)} polluted training rows...\")\n",
    "    print(f\"Removing {len(polluted_test_indices)} polluted testing rows...\")\n",
    "\n",
    "    df_cleaned = df.drop(index=list(polluted_test_indices), errors=\"ignore\").reset_index(drop=True)\n",
    "    return df_cleaned\n",
    "\n",
    "df_cleaned = remove_polluted_rows(df, high_similarity_pairs)\n",
    "\n",
    "#save the cleaned dataset\n",
    "output_file = os.path.join(\"datasets\", \"political_leaning_clean.csv\")\n",
    "df_cleaned.to_csv(output_file, index=False)\n",
    "print(f\"Cleaned dataset saved to '{output_file}'.\")"
   ]
  }
 ],
 "metadata": {
  "kernelspec": {
   "display_name": "Python 3",
   "language": "python",
   "name": "python3"
  },
  "language_info": {
   "codemirror_mode": {
    "name": "ipython",
    "version": 3
   },
   "file_extension": ".py",
   "mimetype": "text/x-python",
   "name": "python",
   "nbconvert_exporter": "python",
   "pygments_lexer": "ipython3",
   "version": "3.12.6"
  }
 },
 "nbformat": 4,
 "nbformat_minor": 2
}
