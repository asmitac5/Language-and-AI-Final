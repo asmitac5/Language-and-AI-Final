{
 "cells": [
  {
   "cell_type": "code",
   "execution_count": 1,
   "metadata": {
    "ExecuteTime": {
     "end_time": "2024-12-22T08:51:38.192013Z",
     "start_time": "2024-12-22T08:51:38.181997Z"
    }
   },
   "outputs": [],
   "source": [
    "import pandas as pd\n",
    "from transformers import AutoTokenizer, AutoModelForSequenceClassification\n",
    "import torch\n",
    "from tqdm import tqdm\n",
    "import os\n",
    "import numpy as np"
   ]
  },
  {
   "cell_type": "code",
   "execution_count": 4,
   "metadata": {},
   "outputs": [
    {
     "data": {
      "text/plain": [
       "RobertaForSequenceClassification(\n",
       "  (roberta): RobertaModel(\n",
       "    (embeddings): RobertaEmbeddings(\n",
       "      (word_embeddings): Embedding(50265, 768, padding_idx=1)\n",
       "      (position_embeddings): Embedding(514, 768, padding_idx=1)\n",
       "      (token_type_embeddings): Embedding(1, 768)\n",
       "      (LayerNorm): LayerNorm((768,), eps=1e-05, elementwise_affine=True)\n",
       "      (dropout): Dropout(p=0.1, inplace=False)\n",
       "    )\n",
       "    (encoder): RobertaEncoder(\n",
       "      (layer): ModuleList(\n",
       "        (0-5): 6 x RobertaLayer(\n",
       "          (attention): RobertaAttention(\n",
       "            (self): RobertaSdpaSelfAttention(\n",
       "              (query): Linear(in_features=768, out_features=768, bias=True)\n",
       "              (key): Linear(in_features=768, out_features=768, bias=True)\n",
       "              (value): Linear(in_features=768, out_features=768, bias=True)\n",
       "              (dropout): Dropout(p=0.1, inplace=False)\n",
       "            )\n",
       "            (output): RobertaSelfOutput(\n",
       "              (dense): Linear(in_features=768, out_features=768, bias=True)\n",
       "              (LayerNorm): LayerNorm((768,), eps=1e-05, elementwise_affine=True)\n",
       "              (dropout): Dropout(p=0.1, inplace=False)\n",
       "            )\n",
       "          )\n",
       "          (intermediate): RobertaIntermediate(\n",
       "            (dense): Linear(in_features=768, out_features=3072, bias=True)\n",
       "            (intermediate_act_fn): GELUActivation()\n",
       "          )\n",
       "          (output): RobertaOutput(\n",
       "            (dense): Linear(in_features=3072, out_features=768, bias=True)\n",
       "            (LayerNorm): LayerNorm((768,), eps=1e-05, elementwise_affine=True)\n",
       "            (dropout): Dropout(p=0.1, inplace=False)\n",
       "          )\n",
       "        )\n",
       "      )\n",
       "    )\n",
       "  )\n",
       "  (classifier): RobertaClassificationHead(\n",
       "    (dense): Linear(in_features=768, out_features=768, bias=True)\n",
       "    (dropout): Dropout(p=0.1, inplace=False)\n",
       "    (out_proj): Linear(in_features=768, out_features=7, bias=True)\n",
       "  )\n",
       ")"
      ]
     },
     "execution_count": 4,
     "metadata": {},
     "output_type": "execute_result"
    }
   ],
   "source": [
    "file_path = \"datasets/file.csv\" #add dataset path here (we used this to get columns for the extra, polluted and non polluted dataset)\n",
    "df = pd.read_csv(file_path)\n",
    "print(df.columns)\n",
    "posts = df[\"tweet\"] #change column to one with text \n",
    "\n",
    "#Loading emotion model and tokenizer.\n",
    "model_name = \"j-hartmann/emotion-english-distilroberta-base\"\n",
    "tokenizer = AutoTokenizer.from_pretrained(model_name)\n",
    "model = AutoModelForSequenceClassification.from_pretrained(model_name)\n",
    "\n",
    "device = torch.device(\"cuda\" if torch.cuda.is_available() else \"cpu\") #using gpu as its faster.\n",
    "model.to(device)"
   ]
  },
  {
   "cell_type": "code",
   "execution_count": 5,
   "metadata": {},
   "outputs": [
    {
     "name": "stderr",
     "output_type": "stream",
     "text": [
      "Predicting emotions:   0%|          | 0/1 [00:00<?, ?it/s]"
     ]
    },
    {
     "name": "stderr",
     "output_type": "stream",
     "text": [
      "Predicting emotions: 100%|██████████| 1/1 [00:00<00:00,  3.02it/s]"
     ]
    },
    {
     "name": "stdout",
     "output_type": "stream",
     "text": [
      "Emotion predictions completed and saved to 'datasets\\test.csv'.\n"
     ]
    },
    {
     "name": "stderr",
     "output_type": "stream",
     "text": [
      "\n"
     ]
    }
   ],
   "source": [
    "def predict_emotion_probs(text):\n",
    "    \"\"\"\n",
    "    Predicts probabilities for all emotions for a given text.\n",
    "    \"\"\"\n",
    "    try:\n",
    "        if pd.isna(text) or text is None:\n",
    "            return np.ones(7) / 7  # 7 emotions with equal probability\n",
    "            \n",
    "        text = str(text).strip()\n",
    "        \n",
    "        if not text:\n",
    "            return np.ones(7) / 7\n",
    "            \n",
    "        encoding = tokenizer(text, truncation=True, padding=True, max_length=128, return_tensors=\"pt\")\n",
    "        encoding = {key: val.to(device) for key, val in encoding.items()}\n",
    "        \n",
    "        model.eval()\n",
    "        with torch.no_grad():\n",
    "            outputs = model(**encoding)\n",
    "            probabilities = torch.softmax(outputs.logits, dim=1).cpu().numpy()[0]\n",
    "            \n",
    "        return probabilities\n",
    "        \n",
    "    except Exception as e:\n",
    "        print(f\"Error processing text: {str(e)[:100]}...\")  # Print first 100 chars of error\n",
    "        return np.ones(7) / 7  # Return equal probabilities on error\n",
    "\n",
    "\n",
    "\n",
    "tqdm.pandas(desc=\"Predicting emotions\")\n",
    "emotion_probabilities = posts.progress_apply(predict_emotion_probs)\n",
    "emotion_labels = [\"anger\", \"joy\", \"sadness\", \"fear\", \"surprise\", \"disgust\", \"neutral\"]\n",
    "emotion_df = pd.DataFrame(emotion_probabilities.tolist(), columns=emotion_labels)\n",
    "df = pd.concat([df, emotion_df], axis=1)\n",
    "\n",
    "output_file = os.path.join(\"datasets\", \"emotional_analysis_results.csv\")\n",
    "df.to_csv(output_file, index=False)\n",
    "print(f\"Emotion predictions completed and saved to '{output_file}'.\") #output is saved to datasets folder."
   ]
  }
 ],
 "metadata": {
  "kernelspec": {
   "display_name": "Python 3",
   "language": "python",
   "name": "python3"
  },
  "language_info": {
   "codemirror_mode": {
    "name": "ipython",
    "version": 3
   },
   "file_extension": ".py",
   "mimetype": "text/x-python",
   "name": "python",
   "nbconvert_exporter": "python",
   "pygments_lexer": "ipython3",
   "version": "3.12.6"
  }
 },
 "nbformat": 4,
 "nbformat_minor": 2
}
