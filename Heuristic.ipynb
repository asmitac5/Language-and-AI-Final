{
 "cells": [
  {
   "cell_type": "markdown",
   "id": "c1a5e869-45c5-4480-8d9d-c330bbe27a72",
   "metadata": {},
   "source": [
    "## Imports"
   ]
  },
  {
   "cell_type": "code",
   "execution_count": null,
   "id": "c54e9f1f-43bd-44c3-9317-b1ed6dc150d5",
   "metadata": {},
   "outputs": [],
   "source": [
    "import torch\n",
    "import pandas as pd\n",
    "from bertopic import BERTopic\n",
    "from sentence_transformers import SentenceTransformer\n",
    "import textstat\n",
    "from sklearn.feature_extraction.text import CountVectorizer\n",
    "\n",
    "print(f\"MPS built: {torch.backends.mps.is_built()}\")       # Should return True\n",
    "print(f\"MPS available: {torch.backends.mps.is_available()}\")  # Should return True\n",
    "\n",
    "device = torch.device(\"mps\") if torch.backends.mps.is_available() else torch.device(\"cpu\")\n",
    "print(f\"Using device: {device}\")"
   ]
  },
  {
   "cell_type": "code",
   "execution_count": null,
   "id": "01c42005-c1b0-4b69-864d-56b73e7ee2d3",
   "metadata": {},
   "outputs": [],
   "source": [
    "political_leaning = pd.read_csv('datasets/political_leaning.csv')\n",
    "political_leaning.head()"
   ]
  },
  {
   "cell_type": "markdown",
   "id": "5885443e-69bc-4ed3-8d46-3eefa8758072",
   "metadata": {},
   "source": [
    "## Create a heuristic of the polluted data as a baseline model for later comparison"
   ]
  },
  {
   "cell_type": "code",
   "execution_count": null,
   "id": "77972685-58fc-4f62-a025-9898e6db5c32",
   "metadata": {},
   "outputs": [],
   "source": [
    "def classify_political_leaning(text):\n",
    "    conservative_keywords = ['freedom', 'economy', 'taxes', 'patriot', 'security']\n",
    "    liberal_keywords = ['equality', 'rights', 'climate', 'justice', 'diversity']\n",
    "    \n",
    "    # Convert text to lowercase for case-insensitive matching\n",
    "    text = text.lower()\n",
    "    \n",
    "    # Count occurrences of conservative and liberal keywords\n",
    "    conservative_count = sum(1 for word in conservative_keywords if word in text)\n",
    "    liberal_count = sum(1 for word in liberal_keywords if word in text)\n",
    "    \n",
    "    # Assign a label based on the counts\n",
    "    if conservative_count > liberal_count:\n",
    "        return 'right'\n",
    "    elif liberal_count > conservative_count:\n",
    "        return 'left'\n",
    "    else:\n",
    "        return 'center'"
   ]
  },
  {
   "cell_type": "code",
   "execution_count": null,
   "id": "157490cf-ef92-4901-8ad6-fe8bff93fb7c",
   "metadata": {},
   "outputs": [],
   "source": [
    "# Apply the heuristic model to the processed posts\n",
    "political_leaning['heuristic_political_leaning'] = political_leaning['post'].apply(classify_political_leaning) #change the cplumn to the one with text."
   ]
  },
  {
   "cell_type": "code",
   "execution_count": null,
   "id": "3ceba649-1e29-47f2-b4ff-a1d7c3031bb5",
   "metadata": {},
   "outputs": [],
   "source": [
    "from sklearn.metrics import classification_report\n",
    "print(classification_report(political_leaning['political_leaning'], political_leaning['heuristic_political_leaning']))"
   ]
  },
  {
   "cell_type": "code",
   "execution_count": null,
   "id": "2cacbcba-213b-4974-ab88-e6c984fa1a7e",
   "metadata": {},
   "outputs": [],
   "source": [
    "from sklearn.metrics import classification_report, accuracy_score\n",
    "\n",
    "y_true = political_leaning['political_leaning']  # Ground truth labels\n",
    "y_pred = political_leaning['heuristic_political_leaning']       # Predicted labels from heuristic model\n",
    "\n",
    "# Generate a classification report\n",
    "print(\"Classification Report:\")\n",
    "print(classification_report(y_true, y_pred))\n",
    "accuracy = accuracy_score(y_true, y_pred)\n",
    "print(f\"Accuracy: {accuracy:.2f}\")\n"
   ]
  },
  {
   "cell_type": "markdown",
   "id": "3b3c2b36-0d91-42d8-b8c4-fec19830a158",
   "metadata": {},
   "source": [
    "## Create a heuristic of the clean data as a baseline model for later comparison"
   ]
  },
  {
   "cell_type": "code",
   "execution_count": null,
   "id": "abef4a3b-c986-4d88-813e-3eec096f6407",
   "metadata": {},
   "outputs": [],
   "source": [
    "import pandas as pd\n",
    "political_leaning_clean = pd.read_csv('datasets/political_leaning_clean.csv') #add non \n",
    "political_leaning_clean.head()"
   ]
  },
  {
   "cell_type": "code",
   "execution_count": null,
   "id": "fa3ecf4f-2d28-4e18-9ed6-235922ecf5ae",
   "metadata": {},
   "outputs": [],
   "source": [
    "# Apply the heuristic model to the processed posts\n",
    "political_leaning_clean['heuristic_political_leaning'] = political_leaning_clean['post'].apply(classify_political_leaning)"
   ]
  },
  {
   "cell_type": "code",
   "execution_count": null,
   "id": "e97c9af9-31a2-4b01-b364-d80b9b2c9b3a",
   "metadata": {},
   "outputs": [],
   "source": [
    "from sklearn.metrics import classification_report\n",
    "print(classification_report(political_leaning_clean['political_leaning'], political_leaning_clean['heuristic_political_leaning']))"
   ]
  },
  {
   "cell_type": "code",
   "execution_count": null,
   "id": "2bfee15f-c37f-42bd-a366-14d9dc812291",
   "metadata": {},
   "outputs": [],
   "source": [
    "from sklearn.metrics import classification_report, accuracy_score\n",
    "y_true = political_leaning_clean['political_leaning']  # Ground truth labels\n",
    "y_pred = political_leaning_clean['heuristic_political_leaning']       # Predicted labels from heuristic model\n",
    "\n",
    "print(\"Classification Report:\")\n",
    "print(classification_report(y_true, y_pred))\n",
    "accuracy = accuracy_score(y_true, y_pred)\n",
    "print(f\"Accuracy: {accuracy:.2f}\")\n"
   ]
  },
  {
   "cell_type": "code",
   "execution_count": null,
   "id": "7725fd5b-fe50-448d-b61b-67107b447dd1",
   "metadata": {},
   "outputs": [],
   "source": []
  }
 ],
 "metadata": {
  "kernelspec": {
   "display_name": "Python 3 (ipykernel)",
   "language": "python",
   "name": "python3"
  },
  "language_info": {
   "codemirror_mode": {
    "name": "ipython",
    "version": 3
   },
   "file_extension": ".py",
   "mimetype": "text/x-python",
   "name": "python",
   "nbconvert_exporter": "python",
   "pygments_lexer": "ipython3",
   "version": "3.9.21"
  }
 },
 "nbformat": 4,
 "nbformat_minor": 5
}
